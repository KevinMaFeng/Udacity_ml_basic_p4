{
 "cells": [
  {
   "cell_type": "markdown",
   "metadata": {},
   "source": [
    "# This is Udacity ML basic P4 heading line"
   ]
  },
  {
   "cell_type": "markdown",
   "metadata": {},
   "source": [
    "### 总体结构以及数据集问题提出\n",
    "\n",
    "    1.1 Introduction and question list for study.\n",
    "       -- Titanic disaster data introdction which is downloaded from Kaggle.\n",
    "       -- Question list\n",
    "          -- which factor might be the key for survivals?\n",
    "          -- what is the rank of other factors for survivals?\n",
    "          -- any conclustion or predition we could make for survivials? and any limitations we have to consider?\n",
    "          \n",
    "    1.2 Data Wrangling）：读取数据集，查看常规属性，评估和识别数据质量问题，清理数据\n",
    "       -- read the data set and check the field\n",
    "       -- data clean(nan or dup data handle)\n",
    "\n",
    "    2. 数据分析 (EDA, Exploratory Data Analysis）\n",
    "       -- single variable impacts on survival\n",
    "       -- multiple variable correlations on suvival\n",
    "       -- Visualization for analyzed results.\n",
    "    探索性数据分析（EDA, Exploratory Data Analysis）：计算统计量，绘制数据可视化，先探索单个变量，再探索变量之间的关系，回应研究问题\n",
    "    3。Conclusion\n",
    "       An limitation or prediction?"
   ]
  },
  {
   "cell_type": "markdown",
   "metadata": {},
   "source": [
    "\n",
    "### 1.1 data set introdcution\n",
    "\n",
    "Data Dictionary\n",
    "\n",
    "Variable\tDefinition\tKey\n",
    "\n",
    "survival \tSurvival \t0 = No, 1 = Yes\n",
    "\n",
    "pclass \tTicket class \t1 = 1st, 2 = 2nd, 3 = 3rd\n",
    "\n",
    "sex \tSex \t\n",
    "\n",
    "Age \tAge in years \t\n",
    "\n",
    "sibsp \t# of siblings / spouses aboard the Titanic \t\n",
    "\n",
    "parch \t# of parents / children aboard the Titanic \t\n",
    "\n",
    "ticket \tTicket number \t\n",
    "\n",
    "fare \tPassenger fare \t\n",
    "\n",
    "cabin \tCabin number \t\n",
    "\n",
    "embarked \tPort of Embarkation \tC = Cherbourg, Q = Queenstown, S = Southampton\n",
    "\n",
    "\n",
    "\n",
    "Variable Notes\n",
    "\n",
    "pclass: A proxy for socio-economic status (SES)\n",
    "\n",
    "1st = Upper\n",
    "\n",
    "2nd = Middle\n",
    "\n",
    "3rd = Lower\n",
    "\n",
    "age: Age is fractional if less than 1. If the age is estimated, is it in the form of xx.5\n",
    "\n",
    "sibsp: The dataset defines family relations in this way...\n",
    "\n",
    "Sibling = brother, sister, stepbrother, stepsister\n",
    "\n",
    "Spouse = husband, wife (mistresses and fiancés were ignored)\n",
    "\n",
    "parch: The dataset defines family relations in this way...\n",
    "\n",
    "Parent = mother, father\n",
    "\n",
    "Child = daughter, son, stepdaughter, stepson\n",
    "\n",
    "Some children travelled only with a nanny, therefore parch=0 for them.\n",
    "\n",
    "\n"
   ]
  },
  {
   "cell_type": "markdown",
   "metadata": {},
   "source": [
    "### 1.2.1 Read csv file and list the first 5 rows."
   ]
  },
  {
   "cell_type": "code",
   "execution_count": 19,
   "metadata": {},
   "outputs": [
    {
     "name": "stdout",
     "output_type": "stream",
     "text": [
      "Populating the interactive namespace from numpy and matplotlib\n"
     ]
    },
    {
     "data": {
      "text/html": [
       "<div>\n",
       "<style scoped>\n",
       "    .dataframe tbody tr th:only-of-type {\n",
       "        vertical-align: middle;\n",
       "    }\n",
       "\n",
       "    .dataframe tbody tr th {\n",
       "        vertical-align: top;\n",
       "    }\n",
       "\n",
       "    .dataframe thead th {\n",
       "        text-align: right;\n",
       "    }\n",
       "</style>\n",
       "<table border=\"1\" class=\"dataframe\">\n",
       "  <thead>\n",
       "    <tr style=\"text-align: right;\">\n",
       "      <th></th>\n",
       "      <th>Survived</th>\n",
       "      <th>Pclass</th>\n",
       "      <th>Name</th>\n",
       "      <th>Sex</th>\n",
       "      <th>Age</th>\n",
       "      <th>SibSp</th>\n",
       "      <th>Parch</th>\n",
       "      <th>Ticket</th>\n",
       "      <th>Fare</th>\n",
       "      <th>Cabin</th>\n",
       "      <th>Embarked</th>\n",
       "    </tr>\n",
       "    <tr>\n",
       "      <th>PassengerId</th>\n",
       "      <th></th>\n",
       "      <th></th>\n",
       "      <th></th>\n",
       "      <th></th>\n",
       "      <th></th>\n",
       "      <th></th>\n",
       "      <th></th>\n",
       "      <th></th>\n",
       "      <th></th>\n",
       "      <th></th>\n",
       "      <th></th>\n",
       "    </tr>\n",
       "  </thead>\n",
       "  <tbody>\n",
       "    <tr>\n",
       "      <th>1</th>\n",
       "      <td>0</td>\n",
       "      <td>3</td>\n",
       "      <td>Braund, Mr. Owen Harris</td>\n",
       "      <td>male</td>\n",
       "      <td>22.0</td>\n",
       "      <td>1</td>\n",
       "      <td>0</td>\n",
       "      <td>A/5 21171</td>\n",
       "      <td>7.2500</td>\n",
       "      <td>NaN</td>\n",
       "      <td>S</td>\n",
       "    </tr>\n",
       "    <tr>\n",
       "      <th>2</th>\n",
       "      <td>1</td>\n",
       "      <td>1</td>\n",
       "      <td>Cumings, Mrs. John Bradley (Florence Briggs Th...</td>\n",
       "      <td>female</td>\n",
       "      <td>38.0</td>\n",
       "      <td>1</td>\n",
       "      <td>0</td>\n",
       "      <td>PC 17599</td>\n",
       "      <td>71.2833</td>\n",
       "      <td>C85</td>\n",
       "      <td>C</td>\n",
       "    </tr>\n",
       "    <tr>\n",
       "      <th>3</th>\n",
       "      <td>1</td>\n",
       "      <td>3</td>\n",
       "      <td>Heikkinen, Miss. Laina</td>\n",
       "      <td>female</td>\n",
       "      <td>26.0</td>\n",
       "      <td>0</td>\n",
       "      <td>0</td>\n",
       "      <td>STON/O2. 3101282</td>\n",
       "      <td>7.9250</td>\n",
       "      <td>NaN</td>\n",
       "      <td>S</td>\n",
       "    </tr>\n",
       "    <tr>\n",
       "      <th>4</th>\n",
       "      <td>1</td>\n",
       "      <td>1</td>\n",
       "      <td>Futrelle, Mrs. Jacques Heath (Lily May Peel)</td>\n",
       "      <td>female</td>\n",
       "      <td>35.0</td>\n",
       "      <td>1</td>\n",
       "      <td>0</td>\n",
       "      <td>113803</td>\n",
       "      <td>53.1000</td>\n",
       "      <td>C123</td>\n",
       "      <td>S</td>\n",
       "    </tr>\n",
       "    <tr>\n",
       "      <th>5</th>\n",
       "      <td>0</td>\n",
       "      <td>3</td>\n",
       "      <td>Allen, Mr. William Henry</td>\n",
       "      <td>male</td>\n",
       "      <td>35.0</td>\n",
       "      <td>0</td>\n",
       "      <td>0</td>\n",
       "      <td>373450</td>\n",
       "      <td>8.0500</td>\n",
       "      <td>NaN</td>\n",
       "      <td>S</td>\n",
       "    </tr>\n",
       "  </tbody>\n",
       "</table>\n",
       "</div>"
      ],
      "text/plain": [
       "             Survived  Pclass  \\\n",
       "PassengerId                     \n",
       "1                   0       3   \n",
       "2                   1       1   \n",
       "3                   1       3   \n",
       "4                   1       1   \n",
       "5                   0       3   \n",
       "\n",
       "                                                          Name     Sex   Age  \\\n",
       "PassengerId                                                                    \n",
       "1                                      Braund, Mr. Owen Harris    male  22.0   \n",
       "2            Cumings, Mrs. John Bradley (Florence Briggs Th...  female  38.0   \n",
       "3                                       Heikkinen, Miss. Laina  female  26.0   \n",
       "4                 Futrelle, Mrs. Jacques Heath (Lily May Peel)  female  35.0   \n",
       "5                                     Allen, Mr. William Henry    male  35.0   \n",
       "\n",
       "             SibSp  Parch            Ticket     Fare Cabin Embarked  \n",
       "PassengerId                                                          \n",
       "1                1      0         A/5 21171   7.2500   NaN        S  \n",
       "2                1      0          PC 17599  71.2833   C85        C  \n",
       "3                0      0  STON/O2. 3101282   7.9250   NaN        S  \n",
       "4                1      0            113803  53.1000  C123        S  \n",
       "5                0      0            373450   8.0500   NaN        S  "
      ]
     },
     "execution_count": 19,
     "metadata": {},
     "output_type": "execute_result"
    }
   ],
   "source": [
    "import pandas as pd\n",
    "import numpy as np\n",
    "import matplotlib.pyplot as plt\n",
    "import seaborn as sns\n",
    "\n",
    "%pylab inline\n",
    "G_CHILD_AGE = 18\n",
    "\n",
    "tt_file = pd.read_csv(\"titanic_data.csv\", index_col = \"PassengerId\")\n",
    "tt_file.head(5)"
   ]
  },
  {
   "cell_type": "markdown",
   "metadata": {},
   "source": [
    "### 1.2.2 Data Clean related handlers"
   ]
  },
  {
   "cell_type": "code",
   "execution_count": 20,
   "metadata": {},
   "outputs": [],
   "source": [
    "\n",
    "def convert_child_age(df):\n",
    "    \"\"\" Add to the Sex field with 'child' type according to the value of Age.\"\"\"\n",
    "    if df.Age < G_CHILD_AGE:\n",
    "        df.Sex =  'child'\n",
    "    return df\n",
    "\n",
    "def autolabel(rects):\n",
    "    \"\"\" fill the exact values according to the height in the chart.\"\"\"\n",
    "    for rect in rects:\n",
    "        height = rect.get_height()\n",
    "        plt.text(rect.get_x() + rect.get_width()/3, 1.03*height, '%d' % int(height))\n",
    "        \n",
    "def field_digitization(df):\n",
    "    \"\"\"convert into integer from string for corrcoef() calculation.\"\"\"\n",
    "    \n",
    "    df.Fare = int(round(float(df.Fare) / 10, 0))\n",
    "    df.Age = int(round(float(df.Age) / 10, 0))\n",
    "    \n",
    "    if df.Sex == 'male':\n",
    "        df.Sex = 0\n",
    "    if df.Sex == 'female':\n",
    "        df.Sex = 1\n",
    "    if df.Embarked == 'C':\n",
    "        df.Embarked = 0\n",
    "    if df.Embarked == 'Q':\n",
    "        df.Embarked = 1            \n",
    "    if df.Embarked == 'S':\n",
    "        df.Embarked = 2         \n",
    "    return df\n",
    "\n",
    "# replace the nan age/Fare with the mean() value rather than discarding them \n",
    "# since the dataset size is small.\n",
    "tt_file.Age.fillna(tt_file.Age.mean(),inplace=True)\n",
    "tt_file.Fare.fillna(tt_file.Fare.mean(),inplace=True)"
   ]
  },
  {
   "cell_type": "markdown",
   "metadata": {},
   "source": [
    "### 2.1 Consider the sex & numbers from the survived and non-survived people"
   ]
  },
  {
   "cell_type": "code",
   "execution_count": 21,
   "metadata": {},
   "outputs": [
    {
     "name": "stdout",
     "output_type": "stream",
     "text": [
      "Survived  Sex   \n",
      "0         child      52\n",
      "          female     64\n",
      "          male      433\n",
      "1         child      61\n",
      "          female    195\n",
      "          male       86\n",
      "Name: Sex, dtype: int64\n"
     ]
    },
    {
     "data": {
      "image/png": "[encoded data removed]",
      "text/plain": [
       "<matplotlib.figure.Figure at 0x7fe4b75cbe90>"
      ]
     },
     "metadata": {},
     "output_type": "display_data"
    }
   ],
   "source": [
    "# 2.1 calculate the number of survived and non-survived people with 'male', 'female' and 'child' types.\n",
    "survived_overview = tt_file.apply(convert_child_age, axis=1).groupby(['Survived',\"Sex\"])['Sex'].count()\n",
    "print survived_overview\n",
    "\n",
    "# non_survived_C - C for child number\n",
    "# non_survived_F - F for female number\n",
    "# non_survived_M - M for male number\n",
    "non_survived_child = survived_overview.iloc[0]\n",
    "non_survived_female = survived_overview.iloc[1]\n",
    "non_survived_male = survived_overview.iloc[2]\n",
    "survived_child = survived_overview.iloc[3]\n",
    "survived_female = survived_overview.iloc[4]\n",
    "survived_male = survived_overview.iloc[5]\n",
    "\n",
    "# total survived and non-survived number\n",
    "# total_survived - survived number\n",
    "# total_non_survived - non-survived number\n",
    "total_survived = survived_female + survived_male + survived_child\n",
    "total_non_survived = non_survived_female + non_survived_male + non_survived_child\n",
    "                \n",
    "y_values = [non_survived_child, non_survived_female, non_survived_male, \\\n",
    "            survived_child, survived_female, survived_male, total_survived, total_non_survived]\n",
    "# n_ prefix implies non_survived\n",
    "# s_ prefix implies survived\n",
    "x_labels = ['n_child', 'n_female','n_male','s_child', 's_female','s_male','survived', 'non_survived']\n",
    "bar_width = 0.9\n",
    "\n",
    "rect1 = plt.bar(x_labels[:3], y_values[:3], label = 'Non Survived', color = 'r', alpha = 0.8, width = bar_width)\n",
    "rect2 = plt.bar(x_labels[3:6], y_values[3:6], label = 'Survived', color = 'g', alpha = 0.8, width = bar_width)\n",
    "rect3 = plt.bar(x_labels[6:8], y_values[6:8], label = 'Total', color = 'k', alpha = 0.8, width = bar_width)\n",
    "\n",
    "plt.xlabel('Types Of Statistics')\n",
    "plt.ylabel('Numbers Of People')\n",
    "plt.title('Overview\\nSurived Vs Non-surived by Sex')\n",
    "plt.ylim([0, 600])   \n",
    "plt.legend()\n",
    "autolabel(rect1)\n",
    "autolabel(rect2)\n",
    "autolabel(rect3)\n",
    "plt.show()\n",
    "\n"
   ]
  },
  {
   "cell_type": "markdown",
   "metadata": {},
   "source": [
    "\n",
    "1) The ration  of non-survived male people (49%) which implies:   \n"
   ]
  },
  {
   "cell_type": "code",
   "execution_count": 22,
   "metadata": {},
   "outputs": [
    {
     "name": "stdout",
     "output_type": "stream",
     "text": [
      "overall male ration 0.582491582492\n",
      "overall female ration 0.290684624018\n"
     ]
    },
    {
     "data": {
      "text/plain": [
       "([<matplotlib.patches.Wedge at 0x7fe4b7597e50>,\n",
       "  <matplotlib.patches.Wedge at 0x7fe4b7620bd0>,\n",
       "  <matplotlib.patches.Wedge at 0x7fe4b762b410>,\n",
       "  <matplotlib.patches.Wedge at 0x7fe4b762bd90>,\n",
       "  <matplotlib.patches.Wedge at 0x7fe4b759f810>,\n",
       "  <matplotlib.patches.Wedge at 0x7fe4b75ccad0>],\n",
       " [Text(0.0513046,1.0988,u'non_survived_male'),\n",
       "  Text(-1.0915,-0.136508,u'non_survived_female'),\n",
       "  Text(-0.949764,-0.554931,u'non_survived_child'),\n",
       "  Text(-0.569635,-0.941019,u'survived_male'),\n",
       "  Text(0.479472,-0.990003,u'survived_female'),\n",
       "  Text(1.07403,-0.23762,u'survived_child')],\n",
       " [Text(0.0279843,0.599347,u'48.51'),\n",
       "  Text(-0.595362,-0.074459,u'6.93'),\n",
       "  Text(-0.518053,-0.30269,u'5.94'),\n",
       "  Text(-0.31071,-0.513283,u'9.90'),\n",
       "  Text(0.26153,-0.540002,u'21.78'),\n",
       "  Text(0.585834,-0.129611,u'6.93')])"
      ]
     },
     "execution_count": 22,
     "metadata": {},
     "output_type": "execute_result"
    },
    {
     "data": {
      "image/png": "[encoded data removed]",
      "text/plain": [
       "<matplotlib.figure.Figure at 0x7fe4b74d1610>"
      ]
     },
     "metadata": {},
     "output_type": "display_data"
    }
   ],
   "source": [
    "# 2.2 calculate the ration for different types with the computed people number above.\n",
    "male_ratio = [round(float(non_survived_male) / (total_survived + total_non_survived), 2), \n",
    "              round(float(non_survived_female) / (total_survived + total_non_survived), 2),\n",
    "              round(float(non_survived_child) / (total_survived + total_non_survived), 2),\n",
    "              round(float(survived_male) / (total_survived + total_non_survived), 2),\n",
    "              round(float(survived_female) / (total_survived + total_non_survived), 2),\n",
    "             round(float(survived_child) / (total_survived + total_non_survived), 2)]\n",
    "print \"overall male ration\", (float(survived_male) + non_survived_male ) / (total_survived + total_non_survived)\n",
    "print \"overall female ration\", (float(survived_female) + non_survived_female ) / (total_survived + total_non_survived)\n",
    "male_label = ['non_survived_male', 'non_survived_female','non_survived_child', \\\n",
    "              'survived_male', 'survived_female', 'survived_child']\n",
    "male_ratio_pd = pd.Series(male_ratio, index=male_label)\n",
    "plt.pie(x=male_ratio, labels=male_label, colors=['r', 'm', 'c', 'g','y','g'], autopct='%.2f')"
   ]
  },
  {
   "cell_type": "markdown",
   "metadata": {},
   "source": [
    "### 2.1 Conclusions from the overview of survived people by sex:\n",
    "\n",
    ") The ration  of non-survived male people (about 49%) which implies: \n",
    "\n",
    "    -- compare with non-survived female ratio (6.93%) plus non-survied child(5.94)\n",
    "    \n",
    "      -- means most of the male did not survived.\n",
    "      \n",
    "2) The ration of surived female (21.78%) is the second large number with below 2 cases:\n",
    "\n",
    "    -- compare with non-survived female ratio (6.93%)\n",
    "    \n",
    "      -- means most of the female survived.\n",
    "      \n",
    "3) The ration of surived and non-survived child are almost equivalent.(6.93% Vs 5.94%) "
   ]
  },
  {
   "cell_type": "markdown",
   "metadata": {},
   "source": [
    "### 2.2 Consider the age impact from the survived and non-survived people"
   ]
  },
  {
   "cell_type": "code",
   "execution_count": 23,
   "metadata": {
    "scrolled": false
   },
   "outputs": [
    {
     "name": "stdout",
     "output_type": "stream",
     "text": [
      "(20, 30]    271\n",
      "(30, 40]     86\n",
      "(10, 20]     71\n",
      "(40, 50]     53\n",
      "(0, 10]      26\n",
      "(50, 60]     25\n",
      "(60, 70]     13\n",
      "(70, 80]      4\n",
      "dtype: int64\n",
      "(20, 30]    136\n",
      "(30, 40]     69\n",
      "(10, 20]     44\n",
      "(0, 10]      38\n",
      "(40, 50]     33\n",
      "(50, 60]     17\n",
      "(60, 70]      4\n",
      "(70, 80]      1\n",
      "dtype: int64\n",
      "(70, 80]    0.200000\n",
      "(60, 70]    0.235294\n",
      "(20, 30]    0.334152\n",
      "(10, 20]    0.382609\n",
      "(40, 50]    0.383721\n",
      "(50, 60]    0.404762\n",
      "(30, 40]    0.445161\n",
      "(0, 10]     0.593750\n",
      "dtype: float64\n"
     ]
    },
    {
     "data": {
      "text/plain": [
       "<matplotlib.axes._subplots.AxesSubplot at 0x7fe4b6fb6990>"
      ]
     },
     "execution_count": 23,
     "metadata": {},
     "output_type": "execute_result"
    },
    {
     "data": {
      "image/png": "[encoded data removed]",
      "text/plain": [
       "<matplotlib.figure.Figure at 0x7fe4b74e8690>"
      ]
     },
     "metadata": {},
     "output_type": "display_data"
    },
    {
     "data": {
      "image/png": "[encoded data removed]",
      "text/plain": [
       "<matplotlib.figure.Figure at 0x7fe4b7148f90>"
      ]
     },
     "metadata": {},
     "output_type": "display_data"
    }
   ],
   "source": [
    "def pick_nonsurvived_age(df):\n",
    "    if df.Survived == 0 and not np.isnan(df.Age):\n",
    "        return df.Age\n",
    "def pick_survived_age(df):\n",
    "    if df.Survived == 1 and not np.isnan(df.Age):\n",
    "        return df.Age\n",
    "\n",
    "d_n_array = np.array(tt_file.apply(pick_nonsurvived_age, axis=1))\n",
    "d_s_array = np.array(tt_file.apply(pick_survived_age, axis=1))\n",
    "#print dn_array\n",
    "\n",
    "binsize = [0,10,20,30,40,50,60,70,80]\n",
    "cat_n = pd.cut(d_n_array, binsize)\n",
    "cat_s = pd.cut(d_s_array, binsize)\n",
    "#print dn_array\n",
    "print pd.value_counts(cat_n, dropna=True)\n",
    "print pd.value_counts(cat_s, dropna=True)\n",
    "\n",
    "# compute the survival ratio with the different age range and output them by sorting method.\n",
    "ratio_age_range = ((pd.value_counts(cat_s, dropna=True)) / (pd.value_counts(cat_n, dropna=True) \\\n",
    "                        + pd.value_counts(cat_s, dropna=True))).sort_values(axis=0,\\\n",
    "                        ascending=True)\n",
    "print ratio_age_range\n",
    "\n",
    "# cut the age data into groups\n",
    "binsize = [0,10,20,30,40,50,60,70,80]\n",
    "tt_file['Age_group'] = pd.cut(tt_file['Age'], bins=binsize)\n",
    "\n",
    "# group data with age groups and surviving status\n",
    "grouped_size = tt_file.groupby(['Age_group', 'Survived']).size()\n",
    "\n",
    "# plot the grouped data in grouped bar chart\n",
    "grouped_size.unstack().plot(kind='barh', stacked=False)\n",
    "plt.title('Count of passengers across age groups and survival')\n",
    "\n",
    "fig, axe = plt.subplots(1, 1)\n",
    "ratio_age_range.plot(kind='barh', ax=axe, color='k', alpha=0.7, \\\n",
    "            title='Surived Ration With Compared Age Range', )"
   ]
  },
  {
   "cell_type": "markdown",
   "metadata": {},
   "source": [
    "### 2.2 Conclusions from the overview of survived people by age:\n",
    "\n",
    "1) The 0-10 Age (Child) has the highest survived ratio.\n",
    "\n",
    "2) The young people (20-40) are the biggest gruop among the survived and non-survived group. and 30-40 age range is the 2nd high survival ratio."
   ]
  },
  {
   "cell_type": "markdown",
   "metadata": {},
   "source": [
    "### 2.3 Consider the fare impact from the survived and non-survived people"
   ]
  },
  {
   "cell_type": "code",
   "execution_count": 24,
   "metadata": {},
   "outputs": [
    {
     "name": "stdout",
     "output_type": "stream",
     "text": [
      "non-survived fare range count\n",
      "(20, 40]      114\n",
      "(60, 80]       23\n",
      "(40, 60]       23\n",
      "(100, 120]      4\n",
      "(80, 100]       3\n",
      "(120, 140]      1\n",
      "dtype: int64\n",
      "\n",
      "survived fare range count\n",
      "(20, 40]      86\n",
      "(40, 60]      31\n",
      "(60, 80]      25\n",
      "(80, 100]     18\n",
      "(100, 120]    11\n",
      "(120, 140]     6\n",
      "dtype: int64\n",
      "\n",
      "survived fare range ratio\n",
      "(20, 40]      0.430000\n",
      "(60, 80]      0.520833\n",
      "(40, 60]      0.574074\n",
      "(100, 120]    0.733333\n",
      "(80, 100]     0.857143\n",
      "(120, 140]    0.857143\n",
      "dtype: float64\n"
     ]
    },
    {
     "data": {
      "text/plain": [
       "<matplotlib.axes._subplots.AxesSubplot at 0x7fe4b6ebbb90>"
      ]
     },
     "execution_count": 24,
     "metadata": {},
     "output_type": "execute_result"
    },
    {
     "data": {
      "image/png": "[encoded data removed]",
      "text/plain": [
       "<matplotlib.figure.Figure at 0x7fe4b74e8790>"
      ]
     },
     "metadata": {},
     "output_type": "display_data"
    },
    {
     "data": {
      "image/png": "[encoded data removed]",
      "text/plain": [
       "<matplotlib.figure.Figure at 0x7fe4c4460250>"
      ]
     },
     "metadata": {},
     "output_type": "display_data"
    }
   ],
   "source": [
    "def pick_nonsurvived_fare(df):\n",
    "    if df.Survived == 0 :\n",
    "        return df.Fare\n",
    "def pick_survived_fare(df):\n",
    "    if df.Survived == 1 :\n",
    "        return df.Fare\n",
    "    \n",
    "d_n_array = np.array(tt_file.apply(pick_nonsurvived_fare, axis=1))\n",
    "d_s_array = np.array(tt_file.apply(pick_survived_fare, axis=1))\n",
    "#print dn_array\n",
    "\n",
    "binsize = [20,40,60,80,100,120,140]\n",
    "cat_n = pd.cut(d_n_array, binsize)\n",
    "cat_s = pd.cut(d_s_array, binsize)\n",
    "#print dn_array\n",
    "print 'non-survived fare range count'\n",
    "print pd.value_counts(cat_n, dropna=True)\n",
    "print '\\nsurvived fare range count'\n",
    "print pd.value_counts(cat_s, dropna=True)\n",
    "# compute the survival ratio with the different fare range and output them by sorting method.\n",
    "ratio_fare_range = ((pd.value_counts(cat_s, dropna=True))/ (pd.value_counts(cat_n, dropna=True) \\\n",
    "                                              + pd.value_counts(cat_s, dropna=True))).sort_values(axis=0,\\\n",
    "                                               ascending=True)\n",
    "print '\\nsurvived fare range ratio'\n",
    "print ratio_fare_range\n",
    "\n",
    "#cut the fare data into groups\n",
    "tt_file['Fare_group'] = pd.cut(tt_file['Fare'], bins=binsize)\n",
    "\n",
    "# group data with fare groups and surviving status\n",
    "grouped_size = tt_file.groupby(['Fare_group', 'Survived']).size()\n",
    "\n",
    "# plot the grouped data in grouped bar chart\n",
    "grouped_size.unstack().plot(kind='barh', stacked=False)\n",
    "plt.title('Count of passengers across fare groups and survival')\n",
    "\n",
    "fig, axe = plt.subplots(1, 1)\n",
    "ratio_fare_range.plot(kind='barh', ax=axe, color='k', alpha=0.7, \\\n",
    "            title='Surived Ration With Compared Fare Range', )"
   ]
  },
  {
   "cell_type": "markdown",
   "metadata": {},
   "source": [
    "### 2.3 Conclusions from the overview of survived people by fare:\n",
    "\n",
    "1) the 0-20 fare range is the most group people on the ship.\n",
    "\n",
    "2) the highest survived rato among the fare range are above 60, which is 120-140, 80-100, and 100-120."
   ]
  },
  {
   "cell_type": "markdown",
   "metadata": {},
   "source": [
    "### 2.4 Consider the family-szie impact from the survived and non-survived people"
   ]
  },
  {
   "cell_type": "code",
   "execution_count": 25,
   "metadata": {},
   "outputs": [
    {
     "name": "stdout",
     "output_type": "stream",
     "text": [
      "non-survived family size count\n",
      "(0, 1]    72\n",
      "(1, 2]    43\n",
      "(4, 5]    19\n",
      "(3, 4]    12\n",
      "(5, 6]     8\n",
      "(2, 3]     8\n",
      "(6, 7]     6\n",
      "(8, 9]     0\n",
      "(7, 8]     0\n",
      "dtype: int64\n",
      "\n",
      "survived family size  count\n",
      "(0, 1]    89\n",
      "(1, 2]    59\n",
      "(2, 3]    21\n",
      "(5, 6]     4\n",
      "(4, 5]     3\n",
      "(3, 4]     3\n",
      "(8, 9]     0\n",
      "(7, 8]     0\n",
      "(6, 7]     0\n",
      "dtype: int64\n"
     ]
    },
    {
     "data": {
      "text/plain": [
       "Text(0.5,1,u'Count of passengers across family size and survival')"
      ]
     },
     "execution_count": 25,
     "metadata": {},
     "output_type": "execute_result"
    },
    {
     "data": {
      "image/png": "[encoded data removed]",
      "text/plain": [
       "<matplotlib.figure.Figure at 0x7fe4b75ff810>"
      ]
     },
     "metadata": {},
     "output_type": "display_data"
    }
   ],
   "source": [
    "def pick_nonsurivived_familysize(df):\n",
    "    if df.Survived == 0 :\n",
    "        return df.SibSp + df.Parch\n",
    "\n",
    "def pick_survived_familysize(df):\n",
    "    if df.Survived == 1 :\n",
    "        return df.SibSp + df.Parch\n",
    "    \n",
    "d_n_array = np.array(tt_file.apply(pick_nonsurivived_familysize, axis=1))\n",
    "d_s_array = np.array(tt_file.apply(pick_survived_familysize, axis=1))\n",
    "#print dn_array\n",
    "\n",
    "binsize = [0, 1, 2, 3, 4, 5, 6, 7, 8, 9]\n",
    "cat_n = pd.cut(d_n_array, binsize)\n",
    "cat_s = pd.cut(d_s_array, binsize)\n",
    "\n",
    "print 'non-survived family size count'\n",
    "print pd.value_counts(cat_n, dropna=True)\n",
    "print '\\nsurvived family size  count'\n",
    "print pd.value_counts(cat_s, dropna=True)\n",
    "\n",
    "tt_file['Family_group'] = pd.cut(tt_file['SibSp'] + tt_file['Parch'] , bins=binsize)\n",
    "\n",
    "# group data with age groups and surviving status\n",
    "grouped_size = tt_file.groupby(['Family_group', 'Survived']).size()\n",
    "\n",
    "# plot the grouped data in grouped bar chart\n",
    "grouped_size.unstack().plot(kind='barh', stacked=False)\n",
    "plt.title('Count of passengers across family size and survival')"
   ]
  },
  {
   "cell_type": "markdown",
   "metadata": {},
   "source": [
    "### 2.4 Conclusions from the overview of survived people by family size:\n",
    "\n",
    "1) the number of people with the family size = 1 or 2 is the biggest group among both non-survived and survived people.\n",
    "\n",
    "2) the singletons or small family size has more chance to survive."
   ]
  },
  {
   "cell_type": "markdown",
   "metadata": {},
   "source": [
    "### 2.5 Consider some field correlations from the survived and non-survived people"
   ]
  },
  {
   "cell_type": "code",
   "execution_count": 26,
   "metadata": {},
   "outputs": [
    {
     "name": "stdout",
     "output_type": "stream",
     "text": [
      "Survived    1.000000\n",
      "Pclass      0.338481\n",
      "Sex         0.543351\n",
      "Age         0.071000\n",
      "SibSp       0.035322\n",
      "Parch       0.081629\n",
      "Fare        0.257167\n",
      "Embarked    0.169718\n",
      "Name: Survived, dtype: float64\n"
     ]
    },
    {
     "data": {
      "text/plain": [
       "<matplotlib.axes._subplots.AxesSubplot at 0x7fe4b6ce38d0>"
      ]
     },
     "execution_count": 26,
     "metadata": {},
     "output_type": "execute_result"
    },
    {
     "data": {
      "image/png": "[encoded data removed]",
      "text/plain": [
       "<matplotlib.figure.Figure at 0x7fe4b7520390>"
      ]
     },
     "metadata": {},
     "output_type": "display_data"
    }
   ],
   "source": [
    "# convert the string type into integer type\n",
    "tt_refined_file = tt_file.apply(field_digitization, axis=1)\n",
    "# use corr() to compute the correlation between the field 'Survived' and other fields\n",
    "tt_series = tt_refined_file.corr()['Survived'].abs()\n",
    "\n",
    "# output the visualization result\n",
    "fig, axe = plt.subplots(1, 1)\n",
    "print tt_series\n",
    "tt_series.sort_values(axis=0, ascending=True).plot(kind='barh', ax=axe, color='k', alpha=0.7, \\\n",
    "            title='Correlation Distribution', )"
   ]
  },
  {
   "cell_type": "markdown",
   "metadata": {},
   "source": [
    "### 3 Some findings, prediction and limitation\n",
    "\n",
    "1) the top3 highest correlations fields are 'Sex'', 'Pclass' and 'Fare'.\n",
    "\n",
    "2) some predictions\n",
    "\n",
    "    -- Sex of female has more chance to survive according to 2.2. (and it might lie in the highest priorities for ladies and children in such disaster.\n",
    "    \n",
    "    -- Age of 0-10 and 30-40 range have more oppotunity to be saved according to 3.1\n",
    "    \n",
    "    -- singletons or small family size has more chance for survive according to 5.1 \n",
    "    \n",
    "3) some limitation\n",
    "\n",
    "    -- some null field such as age, (nearly 1/8 or so) which might lead to incorrect results for such small dataset.\n"
   ]
  },
  {
   "cell_type": "code",
   "execution_count": null,
   "metadata": {},
   "outputs": [],
   "source": []
  }
 ],
 "metadata": {
  "kernelspec": {
   "display_name": "Python 2",
   "language": "python",
   "name": "python2"
  },
  "language_info": {
   "codemirror_mode": {
    "name": "ipython",
    "version": 2
   },
   "file_extension": ".py",
   "mimetype": "text/x-python",
   "name": "python",
   "nbconvert_exporter": "python",
   "pygments_lexer": "ipython2",
   "version": "2.7.14"
  }
 },
 "nbformat": 4,
 "nbformat_minor": 2
}
