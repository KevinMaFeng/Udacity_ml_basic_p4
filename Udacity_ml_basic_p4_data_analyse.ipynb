{
 "cells": [
  {
   "cell_type": "markdown",
   "metadata": {},
   "source": [
    "# This is Udacity ML basic P4 heading line"
   ]
  },
  {
   "cell_type": "markdown",
   "metadata": {},
   "source": [
    "### 总体结构以及数据集问题提出\n",
    "\n",
    "    1.1 Introduction and question list for study.\n",
    "       -- Titanic disaster data introdction which is downloaded from Kaggle.\n",
    "       -- Question list\n",
    "          -- which factor might be the key for survivals?\n",
    "          -- what is the rank of other factors for survivals?\n",
    "          -- any conclustion or predition we could make for survivials? and any limitations we have to consider?\n",
    "          \n",
    "    1.2 Data Wrangling）：读取数据集，查看常规属性，评估和识别数据质量问题，清理数据\n",
    "       -- read the data set and check the field\n",
    "       -- data clean(nan or dup data handle)\n",
    "\n",
    "    2. 数据分析 (EDA, Exploratory Data Analysis）\n",
    "       -- single variable impacts on survival\n",
    "       -- multiple variable correlations on suvival\n",
    "       -- Visualization for analyzed results.\n",
    "    探索性数据分析（EDA, Exploratory Data Analysis）：计算统计量，绘制数据可视化，先探索单个变量，再探索变量之间的关系，回应研究问题\n",
    "    3。Conclusion\n",
    "       An limitation or prediction?"
   ]
  },
  {
   "cell_type": "markdown",
   "metadata": {},
   "source": [
    "\n",
    "### 1.1 data set introdcution\n",
    "\n",
    "Data Dictionary\n",
    "\n",
    "Variable\tDefinition\tKey\n",
    "\n",
    "survival \tSurvival \t0 = No, 1 = Yes\n",
    "\n",
    "pclass \tTicket class \t1 = 1st, 2 = 2nd, 3 = 3rd\n",
    "\n",
    "sex \tSex \t\n",
    "\n",
    "Age \tAge in years \t\n",
    "\n",
    "sibsp \t# of siblings / spouses aboard the Titanic \t\n",
    "\n",
    "parch \t# of parents / children aboard the Titanic \t\n",
    "\n",
    "ticket \tTicket number \t\n",
    "\n",
    "fare \tPassenger fare \t\n",
    "\n",
    "cabin \tCabin number \t\n",
    "\n",
    "embarked \tPort of Embarkation \tC = Cherbourg, Q = Queenstown, S = Southampton\n",
    "\n",
    "\n",
    "\n",
    "Variable Notes\n",
    "\n",
    "pclass: A proxy for socio-economic status (SES)\n",
    "\n",
    "1st = Upper\n",
    "\n",
    "2nd = Middle\n",
    "\n",
    "3rd = Lower\n",
    "\n",
    "age: Age is fractional if less than 1. If the age is estimated, is it in the form of xx.5\n",
    "\n",
    "sibsp: The dataset defines family relations in this way...\n",
    "\n",
    "Sibling = brother, sister, stepbrother, stepsister\n",
    "\n",
    "Spouse = husband, wife (mistresses and fiancés were ignored)\n",
    "\n",
    "parch: The dataset defines family relations in this way...\n",
    "\n",
    "Parent = mother, father\n",
    "\n",
    "Child = daughter, son, stepdaughter, stepson\n",
    "\n",
    "Some children travelled only with a nanny, therefore parch=0 for them.\n",
    "\n",
    "\n"
   ]
  },
  {
   "cell_type": "markdown",
   "metadata": {},
   "source": [
    "### 1.2.1 Read csv file and list the first 5 rows."
   ]
  },
  {
   "cell_type": "code",
   "execution_count": 120,
   "metadata": {},
   "outputs": [
    {
     "name": "stdout",
     "output_type": "stream",
     "text": [
      "Populating the interactive namespace from numpy and matplotlib\n",
      "             Survived  Pclass  \\\n",
      "PassengerId                     \n",
      "1                   0       3   \n",
      "2                   1       1   \n",
      "3                   1       3   \n",
      "4                   1       1   \n",
      "5                   0       3   \n",
      "\n",
      "                                                          Name     Sex   Age  \\\n",
      "PassengerId                                                                    \n",
      "1                                      Braund, Mr. Owen Harris    male  22.0   \n",
      "2            Cumings, Mrs. John Bradley (Florence Briggs Th...  female  38.0   \n",
      "3                                       Heikkinen, Miss. Laina  female  26.0   \n",
      "4                 Futrelle, Mrs. Jacques Heath (Lily May Peel)  female  35.0   \n",
      "5                                     Allen, Mr. William Henry    male  35.0   \n",
      "\n",
      "             SibSp  Parch            Ticket     Fare Cabin Embarked  \n",
      "PassengerId                                                          \n",
      "1                1      0         A/5 21171   7.2500   NaN        S  \n",
      "2                1      0          PC 17599  71.2833   C85        C  \n",
      "3                0      0  STON/O2. 3101282   7.9250   NaN        S  \n",
      "4                1      0            113803  53.1000  C123        S  \n",
      "5                0      0            373450   8.0500   NaN        S  \n"
     ]
    }
   ],
   "source": [
    "import pandas as pd\n",
    "import numpy as np\n",
    "import matplotlib.pyplot as plt\n",
    "import seaborn as sns\n",
    "\n",
    "%pylab inline\n",
    "G_CHILD_AGE = 18\n",
    "\n",
    "tt_file = pd.read_csv(\"titanic_data.csv\", index_col = \"PassengerId\")\n",
    "print tt_file.head(5)"
   ]
  },
  {
   "cell_type": "markdown",
   "metadata": {},
   "source": [
    "### 1.2.2 Data Clean related handlers\n",
    "    -- N/A data description\n",
    "    \n",
    "        -- Age: 177 of 891 is null. and tt_file.Age.mean()=29.7\n",
    "        \n",
    "          -- we fill the null age with the mean() value to avoid any discarding.\n",
    "          \n",
    "          -- so that the data set kept as whole(891) since the entire data set size is not so large.\n",
    "          \n",
    "    -- Data type converstion\n",
    "    \n",
    "        -- Sex\n",
    "        \n",
    "          -- we add a 'child' in Sex type according to Age value ( check whether the Age is less than 18)\n",
    "          \n",
    "          -- this could benifit the care of children besides the view of male and female.\n",
    "          \n",
    "        -- Embarked\n",
    "        \n",
    "          -- fill the digital mapping as\n",
    "          \n",
    "          -- 'C' -> 0\n",
    "          \n",
    "          -- 'Q' -> 1\n",
    "          \n",
    "          -- 'S' -> 2\n",
    "          \n",
    "    -- Data range converstion in corr() handler\n",
    "    \n",
    "        -- Age\n",
    "        \n",
    "        -- Fare\n",
    "        \n",
    "            -- both these field ranges are narrowed into the amount of 10 units\n",
    "            \n",
    "            -- we treat them in this way to avoid too many scatters of such numbers.        \n"
   ]
  },
  {
   "cell_type": "code",
   "execution_count": 121,
   "metadata": {},
   "outputs": [],
   "source": [
    "\n",
    "def convert_child_age(df):\n",
    "    \"\"\" Add to the Sex field with 'child' type according to the value of Age.\"\"\"\n",
    "    if df.Age < G_CHILD_AGE:\n",
    "        df.Sex =  'child'\n",
    "    return df\n",
    "        \n",
    "def field_digitization():\n",
    "    \"\"\"convert into integer from string for corrcoef() calculation.\"\"\"   \n",
    "    tt_file.Sex = tt_file.Sex.map({\"male\":0, \"female\":1})\n",
    "    tt_file.Embarked = tt_file.Embarked.map({\"C\":0, \"Q\":1, \"S\":2})\n",
    "    #df[‘column1’].map(lambda x: 10+x), this will add 10 to each element of column1.\n",
    "    tt_file.Age = tt_file.Age.map(lambda x: int(round(float(x) / 10, 0)))\n",
    "    tt_file.Fare = tt_file.Fare.map(lambda x: int(round(float(x) / 10, 0)))\n",
    "\n",
    "\n",
    "# replace the nan age/Fare with the mean() value rather than discarding them \n",
    "# since the dataset size is small.\n",
    "tt_file.Age.fillna(tt_file.Age.mean(),inplace=True)\n"
   ]
  },
  {
   "cell_type": "markdown",
   "metadata": {},
   "source": [
    "### 2.1 Consider the sex & numbers from the survived and non-survived people"
   ]
  },
  {
   "cell_type": "code",
   "execution_count": 122,
   "metadata": {},
   "outputs": [
    {
     "name": "stdout",
     "output_type": "stream",
     "text": [
      "Sex     Survived\n",
      "child   0            52\n",
      "        1            61\n",
      "female  0            64\n",
      "        1           195\n",
      "male    0           433\n",
      "        1            86\n",
      "Name: Survived, dtype: int64\n"
     ]
    },
    {
     "data": {
      "text/plain": [
       "<matplotlib.axes._subplots.AxesSubplot at 0x7f9459ae8450>"
      ]
     },
     "execution_count": 122,
     "metadata": {},
     "output_type": "execute_result"
    },
    {
     "data": {
      "image/png": "[encoded data removed]",
      "text/plain": [
       "<matplotlib.figure.Figure at 0x7f945a5a6610>"
      ]
     },
     "metadata": {},
     "output_type": "display_data"
    }
   ],
   "source": [
    "# 2.1 calculate the number of survived and non-survived people with 'male', 'female' and 'child' types.\n",
    "#print survived_overview\n",
    "survived_overview = tt_file.apply(convert_child_age, axis=1)\n",
    "\n",
    "print survived_overview.groupby(['Sex', 'Survived'])['Survived'].count()\n",
    "survived_overview.groupby(['Sex', 'Survived'])['Survived'].count().unstack().plot(kind ='bar', \\\n",
    "                            stacked=True, title='Overview\\nSurived Vs Non-surived by Sex')\n"
   ]
  },
  {
   "cell_type": "markdown",
   "metadata": {},
   "source": [
    "\n",
    "1) The ration  of non-survived male people (49%) which implies:   \n"
   ]
  },
  {
   "cell_type": "code",
   "execution_count": 123,
   "metadata": {},
   "outputs": [
    {
     "name": "stdout",
     "output_type": "stream",
     "text": [
      "Survived  Sex   \n",
      "0         child      52\n",
      "          female     64\n",
      "          male      433\n",
      "1         child      61\n",
      "          female    195\n",
      "          male       86\n",
      "Name: Sex, dtype: int64\n"
     ]
    },
    {
     "data": {
      "text/plain": [
       "([<matplotlib.patches.Wedge at 0x7f94599110d0>,\n",
       "  <matplotlib.patches.Wedge at 0x7f9459911890>,\n",
       "  <matplotlib.patches.Wedge at 0x7f94599040d0>,\n",
       "  <matplotlib.patches.Wedge at 0x7f94599048d0>,\n",
       "  <matplotlib.patches.Wedge at 0x7f94598f6110>,\n",
       "  <matplotlib.patches.Wedge at 0x7f94598f6990>],\n",
       " [Text(0.0513046,1.0988,u'non_survived_male'),\n",
       "  Text(-1.0915,-0.136508,u'non_survived_female'),\n",
       "  Text(-0.949764,-0.554931,u'non_survived_child'),\n",
       "  Text(-0.569635,-0.941019,u'survived_male'),\n",
       "  Text(0.479472,-0.990003,u'survived_female'),\n",
       "  Text(1.07403,-0.23762,u'survived_child')],\n",
       " [Text(0.0279843,0.599347,u'48.51'),\n",
       "  Text(-0.595362,-0.074459,u'6.93'),\n",
       "  Text(-0.518053,-0.30269,u'5.94'),\n",
       "  Text(-0.31071,-0.513283,u'9.90'),\n",
       "  Text(0.26153,-0.540002,u'21.78'),\n",
       "  Text(0.585834,-0.129611,u'6.93')])"
      ]
     },
     "execution_count": 123,
     "metadata": {},
     "output_type": "execute_result"
    },
    {
     "data": {
      "image/png": "[encoded data removed]",
      "text/plain": [
       "<matplotlib.figure.Figure at 0x7f9459f4b950>"
      ]
     },
     "metadata": {},
     "output_type": "display_data"
    }
   ],
   "source": [
    "# 2.2 calculate the ration for different types with the computed people number above.\n",
    "ratio_overview = survived_overview.groupby(['Survived',\"Sex\"])['Sex'].count()\n",
    "print ratio_overview\n",
    "\n",
    "# non_survived_C - C for child number\n",
    "# non_survived_F - F for female number\n",
    "# non_survived_M - M for male number\n",
    "non_survived_child = ratio_overview.iloc[0]\n",
    "non_survived_female = ratio_overview.iloc[1]\n",
    "non_survived_male = ratio_overview.iloc[2]\n",
    "survived_child = ratio_overview.iloc[3]\n",
    "survived_female = ratio_overview.iloc[4]\n",
    "survived_male = ratio_overview.iloc[5]\n",
    "\n",
    "# total survived and non-survived number\n",
    "# total_survived - survived number\n",
    "# total_non_survived - non-survived number\n",
    "total_survived = survived_female + survived_male + survived_child\n",
    "total_non_survived = non_survived_female + non_survived_male + non_survived_child\n",
    "total_ratio = [round(float(non_survived_male) / (total_survived + total_non_survived), 2), \n",
    "              round(float(non_survived_female) / (total_survived + total_non_survived), 2),\n",
    "              round(float(non_survived_child) / (total_survived + total_non_survived), 2),\n",
    "              round(float(survived_male) / (total_survived + total_non_survived), 2),\n",
    "              round(float(survived_female) / (total_survived + total_non_survived), 2),\n",
    "              round(float(survived_child) / (total_survived + total_non_survived), 2)]\n",
    "#print \"overall male ration\", (float(survived_male) + non_survived_male ) / (total_survived + total_non_survived)\n",
    "#print \"overall female ration\", (float(survived_female) + non_survived_female ) / (total_survived + total_non_survived)\n",
    "total_label = ['non_survived_male', 'non_survived_female','non_survived_child', \\\n",
    "              'survived_male', 'survived_female', 'survived_child']\n",
    "male_ratio_pd = pd.Series(total_ratio, index=total_label)\n",
    "plt.pie(x=male_ratio, labels=male_label, colors=['r', 'm', 'c', 'g','y','g'], autopct='%.2f')"
   ]
  },
  {
   "cell_type": "markdown",
   "metadata": {},
   "source": [
    "### 2.1 Conclusions from the overview of survived people by sex:\n",
    "\n",
    ") The ration  of non-survived male people (about 49%) which implies: \n",
    "\n",
    "    -- compare with non-survived female ratio (6.93%) plus non-survied child(5.94)\n",
    "    \n",
    "      -- means most of the male did not survived.\n",
    "      \n",
    "2) The ration of surived female (21.78%) is the second large number with below 2 cases:\n",
    "\n",
    "    -- compare with non-survived female ratio (6.93%)\n",
    "    \n",
    "      -- means most of the female survived.\n",
    "      \n",
    "3) The ration of surived and non-survived child are almost equivalent.(6.93% Vs 5.94%) "
   ]
  },
  {
   "cell_type": "markdown",
   "metadata": {},
   "source": [
    "### 2.2 Consider the age impact from the survived and non-survived people"
   ]
  },
  {
   "cell_type": "code",
   "execution_count": 124,
   "metadata": {
    "scrolled": false
   },
   "outputs": [
    {
     "name": "stdout",
     "output_type": "stream",
     "text": [
      "Age_group\n",
      "(70, 80]    0.200000\n",
      "(60, 70]    0.235294\n",
      "(20, 30]    0.334152\n",
      "(10, 20]    0.382609\n",
      "(40, 50]    0.383721\n",
      "(50, 60]    0.404762\n",
      "(30, 40]    0.445161\n",
      "(0, 10]     0.593750\n",
      "Name: Survived, dtype: float64\n"
     ]
    },
    {
     "data": {
      "text/plain": [
       "<matplotlib.axes._subplots.AxesSubplot at 0x7f945979e850>"
      ]
     },
     "execution_count": 124,
     "metadata": {},
     "output_type": "execute_result"
    },
    {
     "data": {
      "image/png": "[encoded data removed]",
      "text/plain": [
       "<matplotlib.figure.Figure at 0x7f9459cca250>"
      ]
     },
     "metadata": {},
     "output_type": "display_data"
    },
    {
     "data": {
      "image/png": "[encoded data removed]",
      "text/plain": [
       "<matplotlib.figure.Figure at 0x7f9459d46cd0>"
      ]
     },
     "metadata": {},
     "output_type": "display_data"
    }
   ],
   "source": [
    "# cut the age data into groups\n",
    "binsize = [0,10,20,30,40,50,60,70,80]\n",
    "tt_file['Age_group'] = pd.cut(tt_file['Age'], bins=binsize)\n",
    "\n",
    "# group data with age groups and surviving status\n",
    "grouped_size = tt_file.groupby(['Age_group', 'Survived']).size()\n",
    "\n",
    "#use mean() to calculate the survival ratio since 1-survived 0-non-survived\n",
    "age_count_group = tt_file.groupby('Age_group')['Survived'].mean().sort_values(axis=0,\\\n",
    "                                               ascending=True)\n",
    "print age_count_group\n",
    "\n",
    "# plot the grouped data in grouped bar chart\n",
    "grouped_size.unstack().plot(kind='barh', stacked=False)\n",
    "plt.title('Count of passengers across age groups and survival')\n",
    "\n",
    "fig, axe = plt.subplots(1, 1)\n",
    "age_count_group.plot(kind='barh', ax=axe, color='k', alpha=0.7, \\\n",
    "           title='Surived Ration With Compared Age Range', )"
   ]
  },
  {
   "cell_type": "markdown",
   "metadata": {},
   "source": [
    "### 2.2 Conclusions from the overview of survived people by age:\n",
    "\n",
    "1) The 0-10 Age (Child) has the highest survived ratio.\n",
    "\n",
    "2) The young people (20-40) are the biggest gruop among the survived and non-survived group. and 30-40 age range is the 2nd high survival ratio."
   ]
  },
  {
   "cell_type": "markdown",
   "metadata": {},
   "source": [
    "### 2.3 Consider the fare impact from the survived and non-survived people"
   ]
  },
  {
   "cell_type": "code",
   "execution_count": 125,
   "metadata": {},
   "outputs": [
    {
     "name": "stdout",
     "output_type": "stream",
     "text": [
      "Fare_group\n",
      "(0, 20]       0.284000\n",
      "(20, 40]      0.430000\n",
      "(60, 80]      0.520833\n",
      "(40, 60]      0.574074\n",
      "(100, 120]    0.733333\n",
      "(80, 100]     0.857143\n",
      "(120, 140]    0.857143\n",
      "Name: Survived, dtype: float64\n"
     ]
    },
    {
     "data": {
      "text/plain": [
       "<matplotlib.axes._subplots.AxesSubplot at 0x7f9459c3a990>"
      ]
     },
     "execution_count": 125,
     "metadata": {},
     "output_type": "execute_result"
    },
    {
     "data": {
      "image/png": "[encoded data removed]",
      "text/plain": [
       "<matplotlib.figure.Figure at 0x7f945a0ca450>"
      ]
     },
     "metadata": {},
     "output_type": "display_data"
    },
    {
     "data": {
      "image/png": "[encoded data removed]",
      "text/plain": [
       "<matplotlib.figure.Figure at 0x7f945998b390>"
      ]
     },
     "metadata": {},
     "output_type": "display_data"
    }
   ],
   "source": [
    "binsize = [0,20,40,60,80,100,120,140]\n",
    "#cut the fare data into groups\n",
    "#use mean() to calculate the survival ratio since 1-survived 0-non-survived\n",
    "tt_file['Fare_group'] = pd.cut(tt_file['Fare'], bins=binsize)\n",
    "fare_count_group = tt_file.groupby('Fare_group')['Survived'].mean().sort_values(axis=0,\\\n",
    "                                               ascending=True)\n",
    "print fare_count_group\n",
    "\n",
    "# group data with fare groups and surviving status\n",
    "grouped_size = tt_file.groupby(['Fare_group', 'Survived']).size()\n",
    "\n",
    "# plot the grouped data in grouped bar chart\n",
    "grouped_size.unstack().plot(kind='barh', stacked=False)\n",
    "plt.title('Count of passengers across fare groups and survival')\n",
    "\n",
    "fig, axe = plt.subplots(1, 1)\n",
    "fare_count_group.plot(kind='barh', ax=axe, color='k', alpha=0.7, \\\n",
    "            title='Surived Ration With Compared Fare Range', )"
   ]
  },
  {
   "cell_type": "markdown",
   "metadata": {},
   "source": [
    "### 2.3 Conclusions from the overview of survived people by fare:\n",
    "\n",
    "1) the 0-20 fare range is the most group people on the ship.\n",
    "\n",
    "2) the highest survived rato among the fare range are above 60, which is 120-140, 80-100, and 100-120."
   ]
  },
  {
   "cell_type": "markdown",
   "metadata": {},
   "source": [
    "### 2.4 Consider the family-szie impact from the survived and non-survived people"
   ]
  },
  {
   "cell_type": "code",
   "execution_count": 126,
   "metadata": {},
   "outputs": [
    {
     "name": "stdout",
     "output_type": "stream",
     "text": [
      "Family_group\n",
      "(6, 7]    0.000000\n",
      "(4, 5]    0.136364\n",
      "(3, 4]    0.200000\n",
      "(5, 6]    0.333333\n",
      "(0, 1]    0.552795\n",
      "(1, 2]    0.578431\n",
      "(2, 3]    0.724138\n",
      "Name: Survived, dtype: float64\n"
     ]
    },
    {
     "data": {
      "text/plain": [
       "<matplotlib.axes._subplots.AxesSubplot at 0x7f9459e49c90>"
      ]
     },
     "execution_count": 126,
     "metadata": {},
     "output_type": "execute_result"
    },
    {
     "data": {
      "image/png": "[encoded data removed]",
      "text/plain": [
       "<matplotlib.figure.Figure at 0x7f9459aede10>"
      ]
     },
     "metadata": {},
     "output_type": "display_data"
    },
    {
     "data": {
      "image/png": "[encoded data removed]",
      "text/plain": [
       "<matplotlib.figure.Figure at 0x7f9459bb0490>"
      ]
     },
     "metadata": {},
     "output_type": "display_data"
    }
   ],
   "source": [
    "\n",
    "binsize = [0, 1, 2, 3, 4, 5, 6, 7]\n",
    "tt_file['Family_group'] = pd.cut(tt_file['SibSp'] + tt_file['Parch'] , bins=binsize)\n",
    "\n",
    "\n",
    "# group data with age groups and surviving status\n",
    "grouped_size = tt_file.groupby(['Family_group', 'Survived']).size()\n",
    "#use mean() to calculate the survival ratio since 1-survived 0-non-survived\n",
    "family_count_group = tt_file.groupby('Family_group')['Survived'].mean().sort_values(axis=0,\\\n",
    "                                               ascending=True)\n",
    "print family_count_group\n",
    "\n",
    "# plot the grouped data in grouped bar chart\n",
    "grouped_size.unstack().plot(kind='barh', stacked=False)\n",
    "plt.title('Count of passengers across family size and survival')\n",
    "\n",
    "fig, axe = plt.subplots(1, 1)\n",
    "family_count_group.plot(kind='barh', ax=axe, color='k', alpha=0.7, \\\n",
    "            title='Surived Ration With Compared Family Size', )"
   ]
  },
  {
   "cell_type": "markdown",
   "metadata": {},
   "source": [
    "### 2.4 Conclusions from the overview of survived people by family size:\n",
    "\n",
    "1) the number of people with the family size less and equal 3 is the biggest group among both non-survived and survived people.\n",
    "\n",
    "2) the singletons or small family size has more chance to survive."
   ]
  },
  {
   "cell_type": "markdown",
   "metadata": {},
   "source": [
    "### 2.5 Consider some field correlations from the survived and non-survived people"
   ]
  },
  {
   "cell_type": "code",
   "execution_count": 127,
   "metadata": {},
   "outputs": [
    {
     "name": "stdout",
     "output_type": "stream",
     "text": [
      "Survived    1.000000\n",
      "Pclass      0.338481\n",
      "Sex         0.543351\n",
      "Age         0.071000\n",
      "SibSp       0.035322\n",
      "Parch       0.081629\n",
      "Fare        0.257167\n",
      "Embarked    0.169718\n",
      "Name: Survived, dtype: float64\n"
     ]
    },
    {
     "data": {
      "text/plain": [
       "<matplotlib.axes._subplots.AxesSubplot at 0x7f9459718a50>"
      ]
     },
     "execution_count": 127,
     "metadata": {},
     "output_type": "execute_result"
    },
    {
     "data": {
      "image/png": "[encoded data removed]",
      "text/plain": [
       "<matplotlib.figure.Figure at 0x7f94598664d0>"
      ]
     },
     "metadata": {},
     "output_type": "display_data"
    }
   ],
   "source": [
    "# convert the string type into integer type\n",
    "field_digitization()\n",
    "\n",
    "# use corr() to compute the correlation between the field 'Survived' and other fields\n",
    "tt_series = tt_file.corr()['Survived'].abs()\n",
    "\n",
    "# output the visualization result\n",
    "fig, axe = plt.subplots(1, 1)\n",
    "print tt_series\n",
    "tt_series.sort_values(axis=0, ascending=True).plot(kind='barh', ax=axe, color='k', alpha=0.7, \\\n",
    "            title='Correlation Distribution', )"
   ]
  },
  {
   "cell_type": "markdown",
   "metadata": {},
   "source": [
    "### 3 Some findings, prediction and limitation\n",
    "\n",
    "1) the top3 highest correlations fields are 'Sex'', 'Pclass' and 'Fare'.\n",
    "\n",
    "2) some predictions or conclustions\n",
    "\n",
    "    -- Sex of female has more chance to survive according to 2.2. (and it might lie in the highest priorities for ladies and children in such disaster.\n",
    "    \n",
    "    -- Age of 0-10 and 30-40 range have more oppotunity to be saved according to 3.1\n",
    "    \n",
    "    -- singletons or small family size has more chance for survive according to 5.1 \n",
    "    \n",
    "3) some limitations\n",
    "\n",
    "    -- some null field such as age, (nearly 1/8 or so) which might lead to incorrect results for such small dataset.\n",
    "    \n",
    "    -- the data set is just the sample data, not the population data. and the sample data size is 900+ which is not large enough to make prediction as above. in other words, it is only the correlation description， not the causal relationship.\n",
    "    \n",
    "    -- besides the variables in the data set reported, we need more data for further analyze, such as the weather situation( the wind, temperature, etc.), and what kind of the rescue carried out（ such as team size, the response time, etc), such kind of data could help us to improve the analyze/predict the survivals possibility in a disaster.\n",
    "    \n"
   ]
  }
 ],
 "metadata": {
  "kernelspec": {
   "display_name": "Python 2",
   "language": "python",
   "name": "python2"
  },
  "language_info": {
   "codemirror_mode": {
    "name": "ipython",
    "version": 2
   },
   "file_extension": ".py",
   "mimetype": "text/x-python",
   "name": "python",
   "nbconvert_exporter": "python",
   "pygments_lexer": "ipython2",
   "version": "2.7.14"
  }
 },
 "nbformat": 4,
 "nbformat_minor": 2
}
