{
 "cells": [
  {
   "cell_type": "markdown",
   "metadata": {},
   "source": [
    "# This is Udacity ML basic P4 heading line"
   ]
  },
  {
   "cell_type": "markdown",
   "metadata": {},
   "source": [
    "### 1.1 read the csv file and check & clean the row data"
   ]
  },
  {
   "cell_type": "code",
   "execution_count": 1,
   "metadata": {},
   "outputs": [
    {
     "name": "stdout",
     "output_type": "stream",
     "text": [
      "Populating the interactive namespace from numpy and matplotlib\n"
     ]
    },
    {
     "data": {
      "text/html": [
       "<div>\n",
       "<style scoped>\n",
       "    .dataframe tbody tr th:only-of-type {\n",
       "        vertical-align: middle;\n",
       "    }\n",
       "\n",
       "    .dataframe tbody tr th {\n",
       "        vertical-align: top;\n",
       "    }\n",
       "\n",
       "    .dataframe thead th {\n",
       "        text-align: right;\n",
       "    }\n",
       "</style>\n",
       "<table border=\"1\" class=\"dataframe\">\n",
       "  <thead>\n",
       "    <tr style=\"text-align: right;\">\n",
       "      <th></th>\n",
       "      <th>Survived</th>\n",
       "      <th>Pclass</th>\n",
       "      <th>Name</th>\n",
       "      <th>Sex</th>\n",
       "      <th>Age</th>\n",
       "      <th>SibSp</th>\n",
       "      <th>Parch</th>\n",
       "      <th>Ticket</th>\n",
       "      <th>Fare</th>\n",
       "      <th>Cabin</th>\n",
       "      <th>Embarked</th>\n",
       "    </tr>\n",
       "    <tr>\n",
       "      <th>PassengerId</th>\n",
       "      <th></th>\n",
       "      <th></th>\n",
       "      <th></th>\n",
       "      <th></th>\n",
       "      <th></th>\n",
       "      <th></th>\n",
       "      <th></th>\n",
       "      <th></th>\n",
       "      <th></th>\n",
       "      <th></th>\n",
       "      <th></th>\n",
       "    </tr>\n",
       "  </thead>\n",
       "  <tbody>\n",
       "    <tr>\n",
       "      <th>1</th>\n",
       "      <td>0</td>\n",
       "      <td>3</td>\n",
       "      <td>Braund, Mr. Owen Harris</td>\n",
       "      <td>male</td>\n",
       "      <td>22.0</td>\n",
       "      <td>1</td>\n",
       "      <td>0</td>\n",
       "      <td>A/5 21171</td>\n",
       "      <td>7.2500</td>\n",
       "      <td>NaN</td>\n",
       "      <td>S</td>\n",
       "    </tr>\n",
       "    <tr>\n",
       "      <th>2</th>\n",
       "      <td>1</td>\n",
       "      <td>1</td>\n",
       "      <td>Cumings, Mrs. John Bradley (Florence Briggs Th...</td>\n",
       "      <td>female</td>\n",
       "      <td>38.0</td>\n",
       "      <td>1</td>\n",
       "      <td>0</td>\n",
       "      <td>PC 17599</td>\n",
       "      <td>71.2833</td>\n",
       "      <td>C85</td>\n",
       "      <td>C</td>\n",
       "    </tr>\n",
       "    <tr>\n",
       "      <th>3</th>\n",
       "      <td>1</td>\n",
       "      <td>3</td>\n",
       "      <td>Heikkinen, Miss. Laina</td>\n",
       "      <td>female</td>\n",
       "      <td>26.0</td>\n",
       "      <td>0</td>\n",
       "      <td>0</td>\n",
       "      <td>STON/O2. 3101282</td>\n",
       "      <td>7.9250</td>\n",
       "      <td>NaN</td>\n",
       "      <td>S</td>\n",
       "    </tr>\n",
       "    <tr>\n",
       "      <th>4</th>\n",
       "      <td>1</td>\n",
       "      <td>1</td>\n",
       "      <td>Futrelle, Mrs. Jacques Heath (Lily May Peel)</td>\n",
       "      <td>female</td>\n",
       "      <td>35.0</td>\n",
       "      <td>1</td>\n",
       "      <td>0</td>\n",
       "      <td>113803</td>\n",
       "      <td>53.1000</td>\n",
       "      <td>C123</td>\n",
       "      <td>S</td>\n",
       "    </tr>\n",
       "    <tr>\n",
       "      <th>5</th>\n",
       "      <td>0</td>\n",
       "      <td>3</td>\n",
       "      <td>Allen, Mr. William Henry</td>\n",
       "      <td>male</td>\n",
       "      <td>35.0</td>\n",
       "      <td>0</td>\n",
       "      <td>0</td>\n",
       "      <td>373450</td>\n",
       "      <td>8.0500</td>\n",
       "      <td>NaN</td>\n",
       "      <td>S</td>\n",
       "    </tr>\n",
       "  </tbody>\n",
       "</table>\n",
       "</div>"
      ],
      "text/plain": [
       "             Survived  Pclass  \\\n",
       "PassengerId                     \n",
       "1                   0       3   \n",
       "2                   1       1   \n",
       "3                   1       3   \n",
       "4                   1       1   \n",
       "5                   0       3   \n",
       "\n",
       "                                                          Name     Sex   Age  \\\n",
       "PassengerId                                                                    \n",
       "1                                      Braund, Mr. Owen Harris    male  22.0   \n",
       "2            Cumings, Mrs. John Bradley (Florence Briggs Th...  female  38.0   \n",
       "3                                       Heikkinen, Miss. Laina  female  26.0   \n",
       "4                 Futrelle, Mrs. Jacques Heath (Lily May Peel)  female  35.0   \n",
       "5                                     Allen, Mr. William Henry    male  35.0   \n",
       "\n",
       "             SibSp  Parch            Ticket     Fare Cabin Embarked  \n",
       "PassengerId                                                          \n",
       "1                1      0         A/5 21171   7.2500   NaN        S  \n",
       "2                1      0          PC 17599  71.2833   C85        C  \n",
       "3                0      0  STON/O2. 3101282   7.9250   NaN        S  \n",
       "4                1      0            113803  53.1000  C123        S  \n",
       "5                0      0            373450   8.0500   NaN        S  "
      ]
     },
     "execution_count": 1,
     "metadata": {},
     "output_type": "execute_result"
    }
   ],
   "source": [
    "import pandas as pd\n",
    "import numpy as np\n",
    "import matplotlib.pyplot as plt\n",
    "import seaborn as sns\n",
    "%pylab inline\n",
    "G_CHILD_AGE = 18\n",
    "G_UNKNOWN_AGE = -1\n",
    "tt_file = pd.read_csv(\"titanic_data.csv\", index_col = \"PassengerId\")\n",
    "tt_file.head()"
   ]
  },
  {
   "cell_type": "raw",
   "metadata": {},
   "source": [
    "###### 1.2 Raw data field info\n",
    " $ PassengerId: int  1 2 3 4 5 6 7 8 9 10 ...\n",
    " $ Survived   : int  0 1 1 1 0 0 0 0 1 1 ...\n",
    " $ Pclass     : int  3 1 3 1 3 3 1 3 3 2 ...\n",
    " $ Name       : chr  \"Braund, Mr. Owen Harris\" \"Cumings, Mrs. John Bradley (Florence Briggs Thayer)\" \"Heikkinen, Miss. Laina\" \"Futrelle, Mrs. Jacques Heath (Lily May Peel)\" ...\n",
    " $ Sex        : chr  \"male\" \"female\" \"female\" \"female\" ...\n",
    " $ Age        : num  22 38 26 35 35 NA 54 2 27 14 ...\n",
    " $ SibSp      : int  1 1 0 1 0 0 0 3 0 1 ...\n",
    " $ Parch      : int  0 0 0 0 0 0 0 1 2 0 ...\n",
    " $ Ticket     : chr  \"A/5 21171\" \"PC 17599\" \"STON/O2. 3101282\" \"113803\" ...\n",
    " $ Fare       : num  7.25 71.28 7.92 53.1 8.05 ...\n",
    " $ Cabin      : chr  \"\" \"C85\" \"\" \"C123\" ...\n",
    " $ Embarked   : chr  \"S\" \"C\" \"S\" \"S\" ...\n",
    "\n",
    "Variable Name \tDescription\n",
    "Survived \tSurvived (1) or died (0)\n",
    "Pclass \tPassenger’s class\n",
    "Name \tPassenger’s name\n",
    "Sex \tPassenger’s sex\n",
    "Age \tPassenger’s age\n",
    "SibSp \tNumber of siblings/spouses aboard\n",
    "Parch \tNumber of parents/children aboard\n",
    "Ticket \tTicket number\n",
    "Fare \tFare\n",
    "Cabin \tCabin\n",
    "Embarked \tPort of embarkation"
   ]
  },
  {
   "cell_type": "markdown",
   "metadata": {},
   "source": [
    "### 2.1 Check overall the survived VS non-survived people"
   ]
  },
  {
   "cell_type": "code",
   "execution_count": 2,
   "metadata": {},
   "outputs": [],
   "source": [
    "\n",
    "def convert_child_age(df):\n",
    "    if df.Age < G_CHILD_AGE:\n",
    "        df.Sex =  'child'\n",
    "    return df\n",
    "\n",
    "def autolabel(rects):\n",
    "    for rect in rects:\n",
    "        height = rect.get_height()\n",
    "        plt.text(rect.get_x() + rect.get_width()/3, 1.03*height, '%d' % int(height))"
   ]
  },
  {
   "cell_type": "code",
   "execution_count": 3,
   "metadata": {},
   "outputs": [
    {
     "name": "stdout",
     "output_type": "stream",
     "text": [
      "Survived  Sex   \n",
      "0         child      52\n",
      "          female     64\n",
      "          male      433\n",
      "1         child      61\n",
      "          female    195\n",
      "          male       86\n",
      "Name: Sex, dtype: int64\n"
     ]
    },
    {
     "data": {
      "image/png": "[encoded data removed]",
      "text/plain": [
       "<matplotlib.figure.Figure at 0x7f15c839d510>"
      ]
     },
     "metadata": {},
     "output_type": "display_data"
    },
    {
     "name": "stdout",
     "output_type": "stream",
     "text": [
      "overall male ration 0.582491582492\n",
      "overall female ration 0.290684624018\n"
     ]
    },
    {
     "data": {
      "text/plain": [
       "([<matplotlib.patches.Wedge at 0x7f1593f750d0>,\n",
       "  <matplotlib.patches.Wedge at 0x7f1593f75890>,\n",
       "  <matplotlib.patches.Wedge at 0x7f1593f800d0>,\n",
       "  <matplotlib.patches.Wedge at 0x7f1593f808d0>,\n",
       "  <matplotlib.patches.Wedge at 0x7f1593f8b110>,\n",
       "  <matplotlib.patches.Wedge at 0x7f1593f8b990>],\n",
       " [Text(0.0513046,1.0988,u'non_survived_male'),\n",
       "  Text(-1.0915,-0.136508,u'non_survived_female'),\n",
       "  Text(-0.949764,-0.554931,u'non_survived_child'),\n",
       "  Text(-0.569635,-0.941019,u'survived_male'),\n",
       "  Text(0.479472,-0.990003,u'survived_female'),\n",
       "  Text(1.07403,-0.23762,u'survived_child')],\n",
       " [Text(0.0279843,0.599347,u'48.51'),\n",
       "  Text(-0.595362,-0.074459,u'6.93'),\n",
       "  Text(-0.518053,-0.30269,u'5.94'),\n",
       "  Text(-0.31071,-0.513283,u'9.90'),\n",
       "  Text(0.26153,-0.540002,u'21.78'),\n",
       "  Text(0.585834,-0.129611,u'6.93')])"
      ]
     },
     "execution_count": 3,
     "metadata": {},
     "output_type": "execute_result"
    },
    {
     "data": {
      "image/png": "[encoded data removed]",
      "text/plain": [
       "<matplotlib.figure.Figure at 0x7f1594002f50>"
      ]
     },
     "metadata": {},
     "output_type": "display_data"
    }
   ],
   "source": [
    "survived_overview = tt_file.apply(convert_child_age, axis=1).groupby(['Survived',\"Sex\"])['Sex'].count()\n",
    "print survived_overview\n",
    "##type(survived_overview)\n",
    "\n",
    "non_survived_C = survived_overview.iloc[0]\n",
    "non_survived_F = survived_overview.iloc[1]\n",
    "non_survived_M = survived_overview.iloc[2]\n",
    "survived_C = survived_overview.iloc[3]\n",
    "survived_F = survived_overview.iloc[4]\n",
    "survived_M = survived_overview.iloc[5]\n",
    "\n",
    "total_S = survived_F + survived_M + survived_C\n",
    "total_N = non_survived_F + non_survived_M + non_survived_C\n",
    "                \n",
    "y_values = [non_survived_C, non_survived_F, non_survived_M, survived_C, survived_F, survived_M, total_S, total_N]\n",
    "x_labels = ['NS_Chd', 'NS_Fle','NS_Mle','S_Chd', 'S_Fle','S_Mle','T_Surv', 'T_NS']\n",
    "bar_width = 0.9\n",
    "\n",
    "rect1 = plt.bar(x_labels[:3], y_values[:3], label = 'Non Survived', color = 'r', alpha = 0.8, width = bar_width)\n",
    "rect2 = plt.bar(x_labels[3:6], y_values[3:6], label = 'Survived', color = 'g', alpha = 0.8, width = bar_width)\n",
    "rect3 = plt.bar(x_labels[6:8], y_values[6:8], label = 'Total', color = 'k', alpha = 0.8, width = bar_width)\n",
    "\n",
    "plt.xlabel('Types Of Statistics')\n",
    "plt.ylabel('Numbers Of People')\n",
    "plt.title('Overview\\nSurived Vs Non-surived by Sex')\n",
    "\n",
    "#plt.xticks(np.arange(7) + bar_width, x_labels)\n",
    "\n",
    "plt.ylim([0, 600])\n",
    "    \n",
    "plt.legend()\n",
    "autolabel(rect1)\n",
    "autolabel(rect2)\n",
    "autolabel(rect3)\n",
    "\n",
    "plt.show()\n",
    "\n",
    "male_ratio = [round(float(non_survived_M) / (total_S + total_N), 2), \n",
    "              round(float(non_survived_F) / (total_S + total_N), 2),\n",
    "              round(float(non_survived_C) / (total_S + total_N), 2),\n",
    "              round(float(survived_M) / (total_S + total_N), 2),\n",
    "              round(float(survived_F) / (total_S + total_N), 2),\n",
    "             round(float(survived_C) / (total_S + total_N), 2)]\n",
    "print \"overall male ration\", (float(survived_M) + non_survived_M ) / (total_S + total_N)\n",
    "print \"overall female ration\", (float(survived_F) + non_survived_F ) / (total_S + total_N)\n",
    "male_label = ['non_survived_male', 'non_survived_female','non_survived_child', \\\n",
    "              'survived_male', 'survived_female', 'survived_child']\n",
    "male_ratio_pd = pd.Series(male_ratio, index=male_label)\n",
    "plt.pie(x=male_ratio, labels=male_label, colors=['r', 'm', 'c', 'g','y','g'], autopct='%.2f')"
   ]
  },
  {
   "cell_type": "raw",
   "metadata": {},
   "source": [
    "### 2.2 Conclusions from the overview of suurvived people by sex:\n",
    "1) The ration  of non-survived male people (49%) which implies: \n",
    "    -- compare with non-survived female ratio (6.93%) plus non-survied child(5.94)\n",
    "      -- means most of the male did not survived.\n",
    "2) The ration of surived female (21.78%) is the second high number with below 2 cases:\n",
    "    -- compare with non-survived female ratio (6.93%)\n",
    "      -- means most of the female survived.\n",
    "3) The ration of surived and non-survived child are almost equivalent.(6.93% Vs 5.94%)  \n",
    "Notes: the unknown age people are not counted as Child type"
   ]
  },
  {
   "cell_type": "markdown",
   "metadata": {},
   "source": [
    "### 3.1 Consider the age impact from the survived and non-survived people"
   ]
  },
  {
   "cell_type": "code",
   "execution_count": 56,
   "metadata": {
    "scrolled": false
   },
   "outputs": [
    {
     "name": "stdout",
     "output_type": "stream",
     "text": [
      "(20, 30]    146\n",
      "(30, 40]     86\n",
      "(10, 20]     71\n",
      "(40, 50]     53\n",
      "(0, 10]      26\n",
      "(50, 60]     25\n",
      "(60, 70]     13\n",
      "(70, 80]      4\n",
      "dtype: int64\n",
      "(20, 30]    84\n",
      "(30, 40]    69\n",
      "(10, 20]    44\n",
      "(0, 10]     38\n",
      "(40, 50]    33\n",
      "(50, 60]    17\n",
      "(60, 70]     4\n",
      "(70, 80]     1\n",
      "dtype: int64\n",
      "(70, 80]    0.200000\n",
      "(60, 70]    0.235294\n",
      "(20, 30]    0.365217\n",
      "(10, 20]    0.382609\n",
      "(40, 50]    0.383721\n",
      "(50, 60]    0.404762\n",
      "(30, 40]    0.445161\n",
      "(0, 10]     0.593750\n",
      "dtype: float64\n"
     ]
    },
    {
     "data": {
      "text/plain": [
       "<matplotlib.axes._subplots.AxesSubplot at 0x7f158cfce890>"
      ]
     },
     "execution_count": 56,
     "metadata": {},
     "output_type": "execute_result"
    },
    {
     "data": {
      "image/png": "[encoded data removed]",
      "text/plain": [
       "<matplotlib.figure.Figure at 0x7f158d14d210>"
      ]
     },
     "metadata": {},
     "output_type": "display_data"
    },
    {
     "data": {
      "image/png": "[encoded data removed]",
      "text/plain": [
       "<matplotlib.figure.Figure at 0x7f158d558290>"
      ]
     },
     "metadata": {},
     "output_type": "display_data"
    }
   ],
   "source": [
    "\n",
    "#age_overview = tt_file.groupby(['Survived', 'Age']['Age'].describe()\n",
    "#print age_overview\n",
    "def pick_non_sur(df):\n",
    "    if df.Survived == 0 and not np.isnan(df.Age):\n",
    "        return df.Age\n",
    "def pick_sur(df):\n",
    "    if df.Survived == 1 and not np.isnan(df.Age):\n",
    "        return df.Age\n",
    "\n",
    "d_n_array = np.array(tt_file.apply(pick_non_sur, axis=1))\n",
    "d_s_array = np.array(tt_file.apply(pick_sur, axis=1))\n",
    "#print dn_array\n",
    "\n",
    "binsize = [0,10,20,30,40,50,60,70,80]\n",
    "cat_n = pd.cut(d_n_array, binsize)\n",
    "cat_s = pd.cut(d_s_array, binsize)\n",
    "#print dn_array\n",
    "print pd.value_counts(cat_n, dropna=True)\n",
    "print pd.value_counts(cat_s, dropna=True)\n",
    "data_age = ((pd.value_counts(cat_s, dropna=True))/ (pd.value_counts(cat_n, dropna=True) \\\n",
    "                                              + pd.value_counts(cat_s, dropna=True))).sort_values(axis=0,\\\n",
    "                                               ascending=True)\n",
    "print data_age\n",
    "\n",
    "fig = plt.figure()\n",
    "ax1 = fig.add_subplot(1,2,1)\n",
    "ax1.set_title('Non Survived Age Distribution')\n",
    "ax1.set_xlabel('Age Range')\n",
    "ax1.set_ylim(0, 140)\n",
    "ax1.set_yticks([20, 40, 60, 80, 100, 120, 140])\n",
    "pd.value_counts(cat_n, dropna=True, sort=True).plot(kind='barh')\n",
    "\n",
    "ax2 = fig.add_subplot(1,2,2)\n",
    "ax2.set_title('Survived Age Distribution')\n",
    "ax2.set_yticks([20, 40, 60, 80, 100, 120, 140])\n",
    "ax2.set_ylim(0, 140)\n",
    "pd.value_counts(cat_s, dropna=True, sort=True).plot(kind='barh')\n",
    "ax2.set_xlabel('Age Range')\n",
    "\n",
    "fig, axe = plt.subplots(1, 1)\n",
    "data_age.plot(kind='barh', ax=axe, color='k', alpha=0.7, \\\n",
    "            title='Surived Ration With Compared Age Range', )"
   ]
  },
  {
   "cell_type": "raw",
   "metadata": {},
   "source": [
    "### 3.1 Conclusions from the overview of survived people by age:\n",
    "1) The 0-10 Age (Child) has the most survived ration.\n",
    "2) The young people (20-40) are the biggest gruop among the survived and non-survived group."
   ]
  },
  {
   "cell_type": "raw",
   "metadata": {},
   "source": [
    "### 4.1 Consider the fare impact from the survived and non-survived people"
   ]
  },
  {
   "cell_type": "code",
   "execution_count": 60,
   "metadata": {},
   "outputs": [
    {
     "name": "stdout",
     "output_type": "stream",
     "text": [
      "(0, 10]     183\n",
      "(10, 20]     89\n",
      "(20, 30]     65\n",
      "(30, 40]     31\n",
      "(70, 80]     12\n",
      "(40, 50]     10\n",
      "(50, 60]      9\n",
      "(60, 70]      4\n",
      "(80, 90]      3\n",
      "dtype: int64\n",
      "(10, 20]    66\n",
      "(20, 30]    55\n",
      "(0, 10]     46\n",
      "(50, 60]    22\n",
      "(30, 40]    20\n",
      "(70, 80]    18\n",
      "(80, 90]    12\n",
      "(60, 70]     6\n",
      "(40, 50]     4\n",
      "dtype: int64\n",
      "(0, 10]     0.200873\n",
      "(40, 50]    0.285714\n",
      "(30, 40]    0.392157\n",
      "(10, 20]    0.425806\n",
      "(20, 30]    0.458333\n",
      "(60, 70]    0.600000\n",
      "(70, 80]    0.600000\n",
      "(50, 60]    0.709677\n",
      "(80, 90]    0.800000\n",
      "dtype: float64\n"
     ]
    },
    {
     "data": {
      "text/plain": [
       "<matplotlib.axes._subplots.AxesSubplot at 0x7f158c7a2050>"
      ]
     },
     "execution_count": 60,
     "metadata": {},
     "output_type": "execute_result"
    },
    {
     "data": {
      "image/png": "[encoded data removed]",
      "text/plain": [
       "<matplotlib.figure.Figure at 0x7f158d896c10>"
      ]
     },
     "metadata": {},
     "output_type": "display_data"
    },
    {
     "data": {
      "image/png": "[encoded data removed]",
      "text/plain": [
       "<matplotlib.figure.Figure at 0x7f158c832590>"
      ]
     },
     "metadata": {},
     "output_type": "display_data"
    }
   ],
   "source": [
    "def pick_non_sur(df):\n",
    "    if df.Survived == 0 and not np.isnan(df.Age):\n",
    "        return df.Fare\n",
    "def pick_sur(df):\n",
    "    if df.Survived == 1 and not np.isnan(df.Age):\n",
    "        return df.Fare\n",
    "    \n",
    "d_n_array = np.array(tt_file.apply(pick_non_sur, axis=1))\n",
    "d_s_array = np.array(tt_file.apply(pick_sur, axis=1))\n",
    "#print dn_array\n",
    "\n",
    "binsize = [0,10,20,30,40,50,60,70,80,90]\n",
    "cat_n = pd.cut(d_n_array, binsize)\n",
    "cat_s = pd.cut(d_s_array, binsize)\n",
    "#print dn_array\n",
    "print pd.value_counts(cat_n, dropna=True)\n",
    "print pd.value_counts(cat_s, dropna=True)\n",
    "data_fare = ((pd.value_counts(cat_s, dropna=True))/ (pd.value_counts(cat_n, dropna=True) \\\n",
    "                                              + pd.value_counts(cat_s, dropna=True))).sort_values(axis=0,\\\n",
    "                                               ascending=True)\n",
    "print data_fare\n",
    "\n",
    "fig = plt.figure()\n",
    "ax1 = fig.add_subplot(1,2,1)\n",
    "ax1.set_title('Non Survived Fare Distribution')\n",
    "ax1.set_xlabel('Fare Range')\n",
    "ax1.set_ylim(0, 160)\n",
    "ax1.set_yticks([20, 40, 60, 80, 100, 120, 140])\n",
    "pd.value_counts(cat_n, dropna=True, sort=True).plot(kind='barh')\n",
    "\n",
    "ax2 = fig.add_subplot(1,2,2)\n",
    "ax2.set_title('Survived Fare Distribution')\n",
    "ax2.set_yticks([20, 40, 60, 80, 100, 120, 140])\n",
    "ax2.set_ylim(0, 160)\n",
    "pd.value_counts(cat_s, dropna=True, sort=True).plot(kind='barh')\n",
    "ax2.set_xlabel('Fare Range')\n",
    "\n",
    "fig, axe = plt.subplots(1, 1)\n",
    "data_fare.plot(kind='barh', ax=axe, color='k', alpha=0.7, \\\n",
    "            title='Surived Ration With Compared Fare Range', )"
   ]
  },
  {
   "cell_type": "raw",
   "metadata": {},
   "source": [
    "### 4.2 Conclusions from the overview of survived people by fare:\n",
    "1) the 0-20 fare range is the most group people on the ship\n",
    "2) the highest survived raton among the fare range are above 60."
   ]
  },
  {
   "cell_type": "raw",
   "metadata": {},
   "source": [
    "### 5.1 Consider the family-szie impact from the survived and non-survived people"
   ]
  },
  {
   "cell_type": "code",
   "execution_count": 58,
   "metadata": {},
   "outputs": [
    {
     "name": "stdout",
     "output_type": "stream",
     "text": [
      "(0, 1]    63\n",
      "(1, 2]    40\n",
      "(4, 5]    19\n",
      "(5, 6]     8\n",
      "(3, 4]     8\n",
      "(6, 7]     6\n",
      "(2, 3]     6\n",
      "(8, 9]     0\n",
      "(7, 8]     0\n",
      "dtype: int64\n",
      "(0, 1]    76\n",
      "(1, 2]    53\n",
      "(2, 3]    21\n",
      "(5, 6]     4\n",
      "(4, 5]     3\n",
      "(3, 4]     3\n",
      "(8, 9]     0\n",
      "(7, 8]     0\n",
      "(6, 7]     0\n",
      "dtype: int64\n"
     ]
    },
    {
     "data": {
      "text/plain": [
       "Text(0.5,0,u'Family Size Range')"
      ]
     },
     "execution_count": 58,
     "metadata": {},
     "output_type": "execute_result"
    },
    {
     "data": {
      "image/png": "[encoded data removed]",
      "text/plain": [
       "<matplotlib.figure.Figure at 0x7f158cc55390>"
      ]
     },
     "metadata": {},
     "output_type": "display_data"
    }
   ],
   "source": [
    "def pick_non_sur(df):\n",
    "    if df.Survived == 0 and not np.isnan(df.Age):\n",
    "        return df.SibSp + df.Parch\n",
    "\n",
    "def pick_sur(df):\n",
    "    if df.Survived == 1 and not np.isnan(df.Age):\n",
    "        return df.SibSp + df.Parch\n",
    "    \n",
    "d_n_array = np.array(tt_file.apply(pick_non_sur, axis=1))\n",
    "d_s_array = np.array(tt_file.apply(pick_sur, axis=1))\n",
    "#print dn_array\n",
    "\n",
    "binsize = [0, 1, 2, 3, 4, 5, 6, 7, 8, 9]\n",
    "cat_n = pd.cut(d_n_array, binsize)\n",
    "cat_s = pd.cut(d_s_array, binsize)\n",
    "#print dn_array\n",
    "print pd.value_counts(cat_n, dropna=True)\n",
    "print pd.value_counts(cat_s, dropna=True)\n",
    "\n",
    "fig = plt.figure()\n",
    "ax1 = fig.add_subplot(1,2,1)\n",
    "ax1.set_title('Non Survived Family Distribution')\n",
    "ax1.set_xlabel('Family Size Range')\n",
    "ax1.set_ylim(0, 80)\n",
    "ax1.set_yticks([10, 20, 30, 40, 50, 60, 70, 80])\n",
    "pd.value_counts(cat_n, dropna=True, sort=True).plot(kind='bar')\n",
    "\n",
    "ax2 = fig.add_subplot(1,2,2)\n",
    "ax2.set_title('Survived Famiy Distribution')\n",
    "ax2.set_yticks([10, 20, 30, 40, 50, 60, 70, 80])\n",
    "ax2.set_ylim(0, 80)\n",
    "pd.value_counts(cat_s, dropna=True, sort=True).plot(kind='bar')\n",
    "ax2.set_xlabel('Family Size Range')"
   ]
  },
  {
   "cell_type": "raw",
   "metadata": {},
   "source": [
    "### 5.2 Conclusions from the overview of survived people by family size:\n",
    "1) the number of people with the family size = 1 or 2 is the biggest group among both non-survived and survived people.\n",
    "2) the singletons has the highest chance for survive."
   ]
  },
  {
   "cell_type": "code",
   "execution_count": 7,
   "metadata": {},
   "outputs": [],
   "source": [
    "### 6.1 Consider some field correlations from the survived and non-survived people"
   ]
  },
  {
   "cell_type": "code",
   "execution_count": 51,
   "metadata": {},
   "outputs": [
    {
     "name": "stdout",
     "output_type": "stream",
     "text": [
      "Sex         0.54\n",
      "Age         0.10\n",
      "Fare        0.26\n",
      "Pclass      0.34\n",
      "SibSp       0.04\n",
      "Parch       0.08\n",
      "Embarked    0.18\n",
      "dtype: float64\n"
     ]
    },
    {
     "data": {
      "text/plain": [
       "<matplotlib.axes._subplots.AxesSubplot at 0x7f158cdc7910>"
      ]
     },
     "execution_count": 51,
     "metadata": {},
     "output_type": "execute_result"
    },
    {
     "data": {
      "image/png": "[encoded data removed]",
      "text/plain": [
       "<matplotlib.figure.Figure at 0x7f159201ee50>"
      ]
     },
     "metadata": {},
     "output_type": "display_data"
    }
   ],
   "source": [
    "\n",
    "def field_digitization(df):\n",
    "        if not np.isnan(df.Age):\n",
    "            if df.Age < 40:\n",
    "                df.Age = 3\n",
    "            elif df.Age >= 40 and df.Age < 60:\n",
    "                df.Age = 2\n",
    "            elif df.Age >= 60 and df.Age < 80:\n",
    "                df.Age = 1\n",
    "            else:\n",
    "                df.Age = 0\n",
    "        if not np.isnan(df.Fare):\n",
    "            df.Fare = int(round(float(df.Fare) / 10, 0))\n",
    "        #if not np.isnan(df.Sex):\n",
    "        if df.Sex == 'male':\n",
    "            df.Sex = 0\n",
    "        if df.Sex == 'female':\n",
    "            df.Sex = 1\n",
    "        #if not np.isnan(df.Embarked):\n",
    "        if df.Embarked == 'C':\n",
    "            df.Embarked = 0\n",
    "        if df.Embarked == 'Q':\n",
    "            df.Embarked = 1            \n",
    "        if df.Embarked == 'S':\n",
    "            df.Embarked = 2 \n",
    "        \n",
    "        return df\n",
    "\n",
    "base_array = np.array(tt_file['Survived'].values)\n",
    "corr_index = ['Sex', 'Age', 'Fare', 'Pclass', 'SibSp', 'Parch', 'Embarked']\n",
    "\n",
    "tt_refined_file = tt_file.apply(field_digitization, axis=1)\n",
    "\n",
    "#pick up the integer\n",
    "result_list = []\n",
    "for field in corr_index:\n",
    "    new_array = []\n",
    "    fd_array = np.array(tt_refined_file[field].values) \n",
    "    for i in range(len(fd_array)):\n",
    "        if not np.isnan(fd_array[i]):\n",
    "            new_array.append(int(str(fd_array[i]).split('.')[0]))\n",
    "            #print new_array[i]\n",
    "        else:\n",
    "            new_array.append(-1) # default as -1\n",
    "    rst = round(abs(np.corrcoef(base_array, new_array)[1,0]), 2)\n",
    "    result_list.append(rst)\n",
    "\n",
    "fig, axe = plt.subplots(1, 1)\n",
    "data = pd.Series(result_list, index=corr_index)\n",
    "print data\n",
    "data.sort_values(axis=0, ascending=True).plot(kind='barh', ax=axe, color='k', alpha=0.7, \\\n",
    "            title='Correlation Distribution', )"
   ]
  },
  {
   "cell_type": "raw",
   "metadata": {},
   "source": [
    "### 6.1 Some findings\n",
    "1) the top3 highest correlations fields are 'Sex'', 'Pclass' and 'Fare'.\n",
    "2) Still confused why Age has such low corrlelation rank than 'Embarked' or 'Fare'. But according to the corrcoef() results, it is not much so high."
   ]
  }
 ],
 "metadata": {
  "kernelspec": {
   "display_name": "Python 2",
   "language": "python",
   "name": "python2"
  },
  "language_info": {
   "codemirror_mode": {
    "name": "ipython",
    "version": 2
   },
   "file_extension": ".py",
   "mimetype": "text/x-python",
   "name": "python",
   "nbconvert_exporter": "python",
   "pygments_lexer": "ipython2",
   "version": "2.7.14"
  }
 },
 "nbformat": 4,
 "nbformat_minor": 2
}
